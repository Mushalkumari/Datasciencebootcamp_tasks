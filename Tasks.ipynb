{
 "cells": [
  {
   "cell_type": "markdown",
   "id": "07f2057e",
   "metadata": {},
   "source": [
    " TASK1:Write a program to iterate the first 10 numbers, and in each iteration, print the sum of\n",
    "the current and previous number."
   ]
  },
  {
   "cell_type": "code",
   "execution_count": 19,
   "id": "32c5a674",
   "metadata": {},
   "outputs": [
    {
     "name": "stdout",
     "output_type": "stream",
     "text": [
      "1 + 0 = 1\n",
      "2 + 1 = 3\n",
      "3 + 2 = 5\n",
      "4 + 3 = 7\n",
      "5 + 4 = 9\n",
      "6 + 5 = 11\n",
      "7 + 6 = 13\n",
      "8 + 7 = 15\n",
      "9 + 8 = 17\n",
      "10 + 9 = 19\n"
     ]
    }
   ],
   "source": [
    "prev=0\n",
    "for i in range(1,11):\n",
    "    sum=prev+i\n",
    "    print(i,\"+\", prev, \"=\", sum)\n",
    "    prev=i"
   ]
  },
  {
   "cell_type": "markdown",
   "id": "0e85545e",
   "metadata": {},
   "source": [
    "TASK2: Print the following pattern"
   ]
  },
  {
   "cell_type": "code",
   "execution_count": 30,
   "id": "08813a1e",
   "metadata": {},
   "outputs": [
    {
     "name": "stdout",
     "output_type": "stream",
     "text": [
      "1\n",
      "\n",
      "22\n",
      "\n",
      "333\n",
      "\n",
      "4444\n",
      "\n",
      "55555\n",
      "\n"
     ]
    }
   ],
   "source": [
    " for i in range(1,6):\n",
    "    for j in range(i):\n",
    "        print(i,end=\"\")\n",
    "    print(\"\\n\")\n",
    "    "
   ]
  },
  {
   "cell_type": "markdown",
   "id": "1a38b649",
   "metadata": {},
   "source": [
    "Task3: Write a program to display only those numbers from a list that satisfy the following\n",
    "conditions"
   ]
  },
  {
   "cell_type": "code",
   "execution_count": 29,
   "id": "674f6c89",
   "metadata": {},
   "outputs": [
    {
     "name": "stdout",
     "output_type": "stream",
     "text": [
      "i. The number must be divisible by five\n",
      "75\n",
      "150\n",
      "180\n",
      "145\n",
      "525\n",
      "50\n"
     ]
    }
   ],
   "source": [
    "numbers=[12,75,150,180,145,525,50]\n",
    "print(\"i. The number must be divisible by five\")\n",
    "for item in numbers:\n",
    "    if item%5==0:\n",
    "        print(item)"
   ]
  },
  {
   "cell_type": "code",
   "execution_count": 70,
   "id": "2bd0447b",
   "metadata": {},
   "outputs": [
    {
     "name": "stdout",
     "output_type": "stream",
     "text": [
      "ii. If the number is greater than 150, then skip it and move to the next number\n",
      "12\n",
      "75\n",
      "150\n",
      "145\n",
      "50\n"
     ]
    }
   ],
   "source": [
    "print(\"ii. If the number is greater than 150, then skip it and move to the next number\")\n",
    "for item in numbers:\n",
    "    if item>150:\n",
    "        continue\n",
    "    print(item)"
   ]
  },
  {
   "cell_type": "code",
   "execution_count": 71,
   "id": "35855cd5",
   "metadata": {},
   "outputs": [
    {
     "name": "stdout",
     "output_type": "stream",
     "text": [
      "iii. If the number is greater than 500, then stop the loop\n",
      "12\n",
      "75\n",
      "150\n",
      "180\n",
      "145\n"
     ]
    }
   ],
   "source": [
    "print(\"iii. If the number is greater than 500, then stop the loop\")\n",
    "for item in numbers:\n",
    "    if item>500:\n",
    "        break\n",
    "    print(item)"
   ]
  },
  {
   "cell_type": "markdown",
   "id": "e17f5a72",
   "metadata": {},
   "source": [
    "Task4: Display Fibonacci series up to 10 terms\n",
    "The Fibonacci Sequence is a series of numbers. The next number is found by adding\n",
    "up the two numbers before it. The first two numbers are 0 and 1.\n"
   ]
  },
  {
   "cell_type": "code",
   "execution_count": 21,
   "id": "e6384a88",
   "metadata": {},
   "outputs": [
    {
     "name": "stdout",
     "output_type": "stream",
     "text": [
      "0\n",
      "1\n",
      "1\n",
      "2\n",
      "3\n",
      "5\n",
      "8\n",
      "13\n",
      "21\n",
      "34\n"
     ]
    }
   ],
   "source": [
    "first_number=0\n",
    "second_number=1\n",
    "count=0\n",
    "terms=10\n",
    "while count<terms:\n",
    "    print(first_number)\n",
    "    n_th=first_number+second_number\n",
    "    first_number=second_number\n",
    "    second_number=n_th\n",
    "    count+=1\n",
    "\n",
    "    \n",
    "    \n"
   ]
  },
  {
   "cell_type": "markdown",
   "id": "5e1091c0",
   "metadata": {},
   "source": [
    "Task5: Write a program to use the loop to find the factorial of a given number."
   ]
  },
  {
   "cell_type": "code",
   "execution_count": 27,
   "id": "533080bc",
   "metadata": {},
   "outputs": [
    {
     "name": "stdout",
     "output_type": "stream",
     "text": [
      "Enter a number for which you want factorial = 5\n",
      "The factorial of 5 is 120\n"
     ]
    }
   ],
   "source": [
    "number=int(input(\"Enter a number for which you want factorial = \"))\n",
    "factorial=1\n",
    "for i in range(1,number+1):\n",
    "    factorial=factorial*i\n",
    "print(\"The factorial of\",number,\"is\",factorial)\n"
   ]
  },
  {
   "cell_type": "markdown",
   "id": "e87b8a01",
   "metadata": {},
   "source": [
    "Task6: Write a program to iterate a given list and count the occurrence of each element and\n",
    "print to show the count of each element"
   ]
  },
  {
   "cell_type": "code",
   "execution_count": 78,
   "id": "fbeb6945",
   "metadata": {},
   "outputs": [
    {
     "name": "stdout",
     "output_type": "stream",
     "text": [
      "Original list [11, 45, 8, 11, 23, 45, 23, 45, 89]\n",
      "printing count of each item {11: 6, 45: 9, 8: 3, 23: 6, 89: 3}\n"
     ]
    }
   ],
   "source": [
    "sample_list = [11, 45, 8, 11, 23, 45, 23, 45, 89]\n",
    "print(\"Original list\",sample_list)\n",
    "for item in sample_list:\n",
    "    if item in count:\n",
    "        count[item]+=1\n",
    "    else:\n",
    "        count[item]=1\n",
    "  \n",
    "print(\"printing count of each item\",count)"
   ]
  },
  {
   "cell_type": "markdown",
   "id": "37ba77df",
   "metadata": {},
   "source": [
    "Task7:Given two lists, l1 and l2, write a program to create a third list l3 by picking an\n",
    "odd-index element from the list l1 and even index elements from the list l2."
   ]
  },
  {
   "cell_type": "code",
   "execution_count": 75,
   "id": "cc914c9e",
   "metadata": {},
   "outputs": [
    {
     "name": "stdout",
     "output_type": "stream",
     "text": [
      "[6, 12, 18]\n",
      "[4, 12, 20, 28]\n",
      "[6, 12, 18, 4, 12, 20, 28]\n"
     ]
    }
   ],
   "source": [
    "l1 = [3, 6, 9, 12, 15, 18, 21]\n",
    "l2 = [4, 8, 12, 16, 20, 24, 28]\n",
    "l3=list()\n",
    "\n",
    "odd_number=l1[1::2]\n",
    "print(odd_number)\n",
    "\n",
    "even_number=l2[0::2]\n",
    "print(even_number)\n",
    "\n",
    "l3.extend(odd_number)\n",
    "l3.extend(even_number)\n",
    "print(l3)"
   ]
  },
  {
   "cell_type": "code",
   "execution_count": null,
   "id": "c15c9e87",
   "metadata": {},
   "outputs": [],
   "source": []
  }
 ],
 "metadata": {
  "kernelspec": {
   "display_name": "Python 3",
   "language": "python",
   "name": "python3"
  },
  "language_info": {
   "codemirror_mode": {
    "name": "ipython",
    "version": 3
   },
   "file_extension": ".py",
   "mimetype": "text/x-python",
   "name": "python",
   "nbconvert_exporter": "python",
   "pygments_lexer": "ipython3",
   "version": "3.8.8"
  }
 },
 "nbformat": 4,
 "nbformat_minor": 5
}
